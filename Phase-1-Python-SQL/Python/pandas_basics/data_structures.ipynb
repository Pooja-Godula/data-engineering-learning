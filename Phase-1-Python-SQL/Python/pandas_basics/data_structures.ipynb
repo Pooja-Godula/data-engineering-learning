{
 "cells": [
  {
   "cell_type": "markdown",
   "metadata": {},
   "source": [
    "Pandas is open source Python Library used for data manipulation and data analysis\n",
    "Data Structures of Pandas: To store data and handle efficiently\n",
    "1.Series : 1D Array to hold data of any data types\n",
    "2.DataFrames: 2D array to hold data (in the format of rows and columns or tables)"
   ]
  },
  {
   "cell_type": "code",
   "execution_count": 2,
   "metadata": {},
   "outputs": [],
   "source": [
    "import pandas as pd \n",
    "import numpy as np "
   ]
  },
  {
   "cell_type": "code",
   "execution_count": null,
   "metadata": {},
   "outputs": [
    {
     "name": "stdout",
     "output_type": "stream",
     "text": [
      "Arthimetic indexing is: \n",
      "1     10\n",
      "4     20\n",
      "7     30\n",
      "10    40\n",
      "13    50\n",
      "16    60\n",
      "19    70\n",
      "22    80\n",
      "dtype: int32\n",
      "Series (s1) is \n",
      "0    0\n",
      "1    2\n",
      "2    4\n",
      "3    6\n",
      "4    8\n",
      "dtype: int64\n",
      "Series(s) is \n",
      "0      1\n",
      "1      2\n",
      "2      3\n",
      "3      0\n",
      "4    NaN\n",
      "5      a\n",
      "dtype: object\n"
     ]
    }
   ],
   "source": [
    "#Passing a list of value as a parameter\n",
    "s=pd.Series([1,2,3,0,np.nan,'a'])\n",
    "s\n",
    "# Creating a series from numpy array and indexing using Range Index\n",
    "indices=(pd.RangeIndex(1,25,3))\n",
    "AP=pd.Series(np.array([10,20,30,40,50,60,70,80]),index=indices)\n",
    "# Creating a series from range --> automatically gives data type int64\n",
    "s1=pd.Series(range(0,10,2))\n",
    "# print(AP, '\\n',  s1, '\\n',  s )\n",
    "print(f\"Arthimetic indexing is: \\n{AP}\\nSeries (s1) is \\n{s1}\\nSeries(s) is \\n{s}\")"
   ]
  },
  {
   "cell_type": "code",
   "execution_count": 20,
   "metadata": {},
   "outputs": [
    {
     "data": {
      "text/plain": [
       "0    100\n",
       "1    100\n",
       "2    100\n",
       "dtype: int64"
      ]
     },
     "execution_count": 20,
     "metadata": {},
     "output_type": "execute_result"
    }
   ],
   "source": [
    "# Creating a series from dictionary Keys becomes indices and values become series\n",
    "data=pd.Series({'a':1,'b':2,'c':3})\n",
    "data\n",
    "\n",
    "# Create a series with all values same\n",
    "data=pd.Series(100,index=pd.RangeIndex(3))\n",
    "data"
   ]
  },
  {
   "cell_type": "markdown",
   "metadata": {},
   "source": [
    "DataFrames: 2D,Rows and columns \n",
    "Can be think as dict-like container for series objects\n",
    "Syntax: pd.dataframe(data='',index='',columns='')"
   ]
  },
  {
   "cell_type": "code",
   "execution_count": 22,
   "metadata": {},
   "outputs": [
    {
     "data": {
      "text/html": [
       "<div>\n",
       "<style scoped>\n",
       "    .dataframe tbody tr th:only-of-type {\n",
       "        vertical-align: middle;\n",
       "    }\n",
       "\n",
       "    .dataframe tbody tr th {\n",
       "        vertical-align: top;\n",
       "    }\n",
       "\n",
       "    .dataframe thead th {\n",
       "        text-align: right;\n",
       "    }\n",
       "</style>\n",
       "<table border=\"1\" class=\"dataframe\">\n",
       "  <thead>\n",
       "    <tr style=\"text-align: right;\">\n",
       "      <th></th>\n",
       "      <th>a</th>\n",
       "      <th>b</th>\n",
       "    </tr>\n",
       "  </thead>\n",
       "  <tbody>\n",
       "    <tr>\n",
       "      <th>0</th>\n",
       "      <td>1</td>\n",
       "      <td>4</td>\n",
       "    </tr>\n",
       "    <tr>\n",
       "      <th>1</th>\n",
       "      <td>2</td>\n",
       "      <td>5</td>\n",
       "    </tr>\n",
       "    <tr>\n",
       "      <th>2</th>\n",
       "      <td>3</td>\n",
       "      <td>6</td>\n",
       "    </tr>\n",
       "  </tbody>\n",
       "</table>\n",
       "</div>"
      ],
      "text/plain": [
       "   a  b\n",
       "0  1  4\n",
       "1  2  5\n",
       "2  3  6"
      ]
     },
     "execution_count": 22,
     "metadata": {},
     "output_type": "execute_result"
    }
   ],
   "source": [
    "# Create a DataFrame from the dictionary\n",
    "d = {'a':[1,2,3],'b':[4,5,6]}\n",
    "df = pd.DataFrame(data=d)\n",
    "df"
   ]
  },
  {
   "cell_type": "code",
   "execution_count": 29,
   "metadata": {},
   "outputs": [
    {
     "data": {
      "text/html": [
       "<div>\n",
       "<style scoped>\n",
       "    .dataframe tbody tr th:only-of-type {\n",
       "        vertical-align: middle;\n",
       "    }\n",
       "\n",
       "    .dataframe tbody tr th {\n",
       "        vertical-align: top;\n",
       "    }\n",
       "\n",
       "    .dataframe thead th {\n",
       "        text-align: right;\n",
       "    }\n",
       "</style>\n",
       "<table border=\"1\" class=\"dataframe\">\n",
       "  <thead>\n",
       "    <tr style=\"text-align: right;\">\n",
       "      <th></th>\n",
       "      <th>a</th>\n",
       "      <th>b</th>\n",
       "      <th>c</th>\n",
       "    </tr>\n",
       "  </thead>\n",
       "  <tbody>\n",
       "    <tr>\n",
       "      <th>1</th>\n",
       "      <td>1</td>\n",
       "      <td>2</td>\n",
       "      <td>3</td>\n",
       "    </tr>\n",
       "    <tr>\n",
       "      <th>2</th>\n",
       "      <td>4</td>\n",
       "      <td>5</td>\n",
       "      <td>6</td>\n",
       "    </tr>\n",
       "    <tr>\n",
       "      <th>3</th>\n",
       "      <td>7</td>\n",
       "      <td>8</td>\n",
       "      <td>9</td>\n",
       "    </tr>\n",
       "    <tr>\n",
       "      <th>4</th>\n",
       "      <td>10</td>\n",
       "      <td>20</td>\n",
       "      <td>30</td>\n",
       "    </tr>\n",
       "  </tbody>\n",
       "</table>\n",
       "</div>"
      ],
      "text/plain": [
       "    a   b   c\n",
       "1   1   2   3\n",
       "2   4   5   6\n",
       "3   7   8   9\n",
       "4  10  20  30"
      ]
     },
     "execution_count": 29,
     "metadata": {},
     "output_type": "execute_result"
    }
   ],
   "source": [
    "# Create a DataFrame from the numpy\n",
    "df = pd.DataFrame(data = np.array([[1,2,3],[4,5,6],[7,8,9],[10,20,30]]),columns = pd.Series(['a','b','c']),index=pd.RangeIndex(1,5,1))\n",
    "df"
   ]
  },
  {
   "cell_type": "code",
   "execution_count": 41,
   "metadata": {},
   "outputs": [
    {
     "data": {
      "text/html": [
       "<div>\n",
       "<style scoped>\n",
       "    .dataframe tbody tr th:only-of-type {\n",
       "        vertical-align: middle;\n",
       "    }\n",
       "\n",
       "    .dataframe tbody tr th {\n",
       "        vertical-align: top;\n",
       "    }\n",
       "\n",
       "    .dataframe thead th {\n",
       "        text-align: right;\n",
       "    }\n",
       "</style>\n",
       "<table border=\"1\" class=\"dataframe\">\n",
       "  <thead>\n",
       "    <tr style=\"text-align: right;\">\n",
       "      <th></th>\n",
       "      <th>a</th>\n",
       "      <th>b</th>\n",
       "    </tr>\n",
       "    <tr>\n",
       "      <th>dates</th>\n",
       "      <th></th>\n",
       "      <th></th>\n",
       "    </tr>\n",
       "  </thead>\n",
       "  <tbody>\n",
       "    <tr>\n",
       "      <th>2025-01-01</th>\n",
       "      <td>1.034400</td>\n",
       "      <td>-1.136021</td>\n",
       "    </tr>\n",
       "    <tr>\n",
       "      <th>2025-01-02</th>\n",
       "      <td>-0.122303</td>\n",
       "      <td>-0.549502</td>\n",
       "    </tr>\n",
       "    <tr>\n",
       "      <th>2025-01-03</th>\n",
       "      <td>-2.055847</td>\n",
       "      <td>-1.301493</td>\n",
       "    </tr>\n",
       "    <tr>\n",
       "      <th>2025-01-04</th>\n",
       "      <td>-2.250541</td>\n",
       "      <td>-1.491918</td>\n",
       "    </tr>\n",
       "    <tr>\n",
       "      <th>2025-01-05</th>\n",
       "      <td>0.220282</td>\n",
       "      <td>-0.224843</td>\n",
       "    </tr>\n",
       "    <tr>\n",
       "      <th>...</th>\n",
       "      <td>...</td>\n",
       "      <td>...</td>\n",
       "    </tr>\n",
       "    <tr>\n",
       "      <th>2025-03-27</th>\n",
       "      <td>0.906990</td>\n",
       "      <td>-0.498649</td>\n",
       "    </tr>\n",
       "    <tr>\n",
       "      <th>2025-03-28</th>\n",
       "      <td>1.898532</td>\n",
       "      <td>-0.965716</td>\n",
       "    </tr>\n",
       "    <tr>\n",
       "      <th>2025-03-29</th>\n",
       "      <td>1.411456</td>\n",
       "      <td>0.865374</td>\n",
       "    </tr>\n",
       "    <tr>\n",
       "      <th>2025-03-30</th>\n",
       "      <td>0.790863</td>\n",
       "      <td>0.077535</td>\n",
       "    </tr>\n",
       "    <tr>\n",
       "      <th>2025-03-31</th>\n",
       "      <td>0.200199</td>\n",
       "      <td>0.260483</td>\n",
       "    </tr>\n",
       "  </tbody>\n",
       "</table>\n",
       "<p>90 rows × 2 columns</p>\n",
       "</div>"
      ],
      "text/plain": [
       "                   a         b\n",
       "dates                         \n",
       "2025-01-01  1.034400 -1.136021\n",
       "2025-01-02 -0.122303 -0.549502\n",
       "2025-01-03 -2.055847 -1.301493\n",
       "2025-01-04 -2.250541 -1.491918\n",
       "2025-01-05  0.220282 -0.224843\n",
       "...              ...       ...\n",
       "2025-03-27  0.906990 -0.498649\n",
       "2025-03-28  1.898532 -0.965716\n",
       "2025-03-29  1.411456  0.865374\n",
       "2025-03-30  0.790863  0.077535\n",
       "2025-03-31  0.200199  0.260483\n",
       "\n",
       "[90 rows x 2 columns]"
      ]
     },
     "execution_count": 41,
     "metadata": {},
     "output_type": "execute_result"
    }
   ],
   "source": [
    "# create a dataframe with dates\n",
    "dates = pd.date_range('2025-01-01',periods=90)\n",
    "dates_df = pd.DataFrame(data=(np.random.randn(90,2)),index=dates,columns=['a','b'])\n",
    "dates_df.index.name = 'dates' #Naming the index column\n",
    "dates_df.reset_index() #Naming the index column as a header similar to other columns\n",
    "dates_df"
   ]
  },
  {
   "cell_type": "code",
   "execution_count": null,
   "metadata": {},
   "outputs": [
    {
     "data": {
      "text/plain": [
       "dates    datetime64[ns]\n",
       "a               float64\n",
       "b               float64\n",
       "dtype: object"
      ]
     },
     "execution_count": 43,
     "metadata": {},
     "output_type": "execute_result"
    }
   ],
   "source": [
    "# Data types of a columns and dataframes\n",
    "dates_df.reset_index().dtypes"
   ]
  },
  {
   "cell_type": "code",
   "execution_count": 46,
   "metadata": {},
   "outputs": [
    {
     "name": "stdout",
     "output_type": "stream",
     "text": [
      "                   a         b\n",
      "dates                         \n",
      "2025-01-01  1.034400 -1.136021\n",
      "2025-01-02 -0.122303 -0.549502\n",
      "2025-01-03 -2.055847 -1.301493\n",
      "2025-01-04 -2.250541 -1.491918\n",
      "2025-01-05  0.220282 -0.224843\n",
      "                   a         b\n",
      "dates                         \n",
      "2025-03-27  0.906990 -0.498649\n",
      "2025-03-28  1.898532 -0.965716\n",
      "2025-03-29  1.411456  0.865374\n",
      "2025-03-30  0.790863  0.077535\n",
      "2025-03-31  0.200199  0.260483\n"
     ]
    }
   ],
   "source": [
    "print(dates_df.head())\n",
    "print(dates_df.tail())"
   ]
  },
  {
   "cell_type": "code",
   "execution_count": null,
   "metadata": {},
   "outputs": [
    {
     "data": {
      "text/plain": [
       "90"
      ]
     },
     "execution_count": 51,
     "metadata": {},
     "output_type": "execute_result"
    }
   ],
   "source": [
    "dates_df.shape # returns (number of rows, number of columns)\n",
    "dates_df.shape[0] #returns just number of rows"
   ]
  },
  {
   "cell_type": "code",
   "execution_count": null,
   "metadata": {},
   "outputs": [
    {
     "data": {
      "text/plain": [
       "2"
      ]
     },
     "execution_count": 48,
     "metadata": {},
     "output_type": "execute_result"
    }
   ],
   "source": [
    "dates_df.ndim # returns number of axes in the data for dataframe it is always 2"
   ]
  },
  {
   "cell_type": "code",
   "execution_count": null,
   "metadata": {},
   "outputs": [
    {
     "data": {
      "text/plain": [
       "DatetimeIndex(['2025-01-01', '2025-01-02', '2025-01-03', '2025-01-04',\n",
       "               '2025-01-05', '2025-01-06', '2025-01-07', '2025-01-08',\n",
       "               '2025-01-09', '2025-01-10', '2025-01-11', '2025-01-12',\n",
       "               '2025-01-13', '2025-01-14', '2025-01-15', '2025-01-16',\n",
       "               '2025-01-17', '2025-01-18', '2025-01-19', '2025-01-20',\n",
       "               '2025-01-21', '2025-01-22', '2025-01-23', '2025-01-24',\n",
       "               '2025-01-25', '2025-01-26', '2025-01-27', '2025-01-28',\n",
       "               '2025-01-29', '2025-01-30', '2025-01-31', '2025-02-01',\n",
       "               '2025-02-02', '2025-02-03', '2025-02-04', '2025-02-05',\n",
       "               '2025-02-06', '2025-02-07', '2025-02-08', '2025-02-09',\n",
       "               '2025-02-10', '2025-02-11', '2025-02-12', '2025-02-13',\n",
       "               '2025-02-14', '2025-02-15', '2025-02-16', '2025-02-17',\n",
       "               '2025-02-18', '2025-02-19', '2025-02-20', '2025-02-21',\n",
       "               '2025-02-22', '2025-02-23', '2025-02-24', '2025-02-25',\n",
       "               '2025-02-26', '2025-02-27', '2025-02-28', '2025-03-01',\n",
       "               '2025-03-02', '2025-03-03', '2025-03-04', '2025-03-05',\n",
       "               '2025-03-06', '2025-03-07', '2025-03-08', '2025-03-09',\n",
       "               '2025-03-10', '2025-03-11', '2025-03-12', '2025-03-13',\n",
       "               '2025-03-14', '2025-03-15', '2025-03-16', '2025-03-17',\n",
       "               '2025-03-18', '2025-03-19', '2025-03-20', '2025-03-21',\n",
       "               '2025-03-22', '2025-03-23', '2025-03-24', '2025-03-25',\n",
       "               '2025-03-26', '2025-03-27', '2025-03-28', '2025-03-29',\n",
       "               '2025-03-30', '2025-03-31'],\n",
       "              dtype='datetime64[ns]', name='dates', freq='D')"
      ]
     },
     "execution_count": 53,
     "metadata": {},
     "output_type": "execute_result"
    }
   ],
   "source": [
    "dates_df.columns # returns column names of the data\n",
    "dates_df.index #returns indices of the data"
   ]
  },
  {
   "cell_type": "code",
   "execution_count": null,
   "metadata": {},
   "outputs": [],
   "source": []
  },
  {
   "cell_type": "code",
   "execution_count": null,
   "metadata": {},
   "outputs": [],
   "source": []
  },
  {
   "cell_type": "code",
   "execution_count": null,
   "metadata": {},
   "outputs": [],
   "source": []
  }
 ],
 "metadata": {
  "kernelspec": {
   "display_name": "Python 3",
   "language": "python",
   "name": "python3"
  },
  "language_info": {
   "codemirror_mode": {
    "name": "ipython",
    "version": 3
   },
   "file_extension": ".py",
   "mimetype": "text/x-python",
   "name": "python",
   "nbconvert_exporter": "python",
   "pygments_lexer": "ipython3",
   "version": "3.9.6"
  }
 },
 "nbformat": 4,
 "nbformat_minor": 2
}
