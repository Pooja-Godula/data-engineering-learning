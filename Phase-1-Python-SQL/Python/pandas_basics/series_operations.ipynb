{
 "cells": [
  {
   "cell_type": "markdown",
   "metadata": {},
   "source": [
    "Series Operations\n",
    "1. Accessing the elements in series\n",
    "2. Arthimetic Operations\n",
    "3. Applying Functions(Data Manipulation)\n",
    "4. Filtering elements\n",
    "5. Sorting & Filtering elements in a series\n",
    "6. Checking for null values\n",
    "7. Statistical Operations\n",
    "8. String Operations\n",
    "9. Checking Uniqueness\n",
    "10. Merging two series"
   ]
  },
  {
   "cell_type": "code",
   "execution_count": 1,
   "metadata": {},
   "outputs": [],
   "source": [
    "import pandas as pd \n",
    "import numpy as np"
   ]
  },
  {
   "cell_type": "code",
   "execution_count": 7,
   "metadata": {},
   "outputs": [
    {
     "data": {
      "text/plain": [
       "a    0.492530\n",
       "b    0.490575\n",
       "c    0.776782\n",
       "d    0.175584\n",
       "e    0.997778\n",
       "f    0.480351\n",
       "g    0.471599\n",
       "h    0.319162\n",
       "i    0.596660\n",
       "j    0.466993\n",
       "dtype: float64"
      ]
     },
     "execution_count": 7,
     "metadata": {},
     "output_type": "execute_result"
    }
   ],
   "source": [
    "#indices = np.arange(0,10)\n",
    "import string\n",
    "indices = np.array(list(string.ascii_lowercase)[:10])\n",
    "data = np.random.random(10)\n",
    "series = pd.Series(data= data,index=indices)\n",
    "series"
   ]
  },
  {
   "cell_type": "code",
   "execution_count": 13,
   "metadata": {},
   "outputs": [
    {
     "name": "stdout",
     "output_type": "stream",
     "text": [
      "0.49252969064296137 0.49252969064296137\n",
      "0.471598613991274 0.49252969064296137\n"
     ]
    }
   ],
   "source": [
    "# Accessing elements by label-based(index) and position-based\n",
    "print(series['a'],series.loc['a'])  #label-based\n",
    "print(series.iloc[6],series.iloc[0]) #access the element at position 6\n"
   ]
  },
  {
   "cell_type": "code",
   "execution_count": null,
   "metadata": {},
   "outputs": [
    {
     "name": "stdout",
     "output_type": "stream",
     "text": [
      "c    0.776782\n",
      "e    0.997778\n",
      "i    0.596660\n",
      "dtype: float64\n",
      "a    0.492530\n",
      "b    0.490575\n",
      "c    0.776782\n",
      "d    0.175584\n",
      "dtype: float64\n",
      "j    0.466993\n",
      "dtype: float64\n",
      "a    0.492530\n",
      "b    0.490575\n",
      "c    0.776782\n",
      "d    0.175584\n",
      "e    0.997778\n",
      "f    0.480351\n",
      "g    0.471599\n",
      "h    0.319162\n",
      "dtype: float64\n",
      "g    0.471599\n",
      "h    0.319162\n",
      "i    0.596660\n",
      "j    0.466993\n",
      "dtype: float64\n"
     ]
    }
   ],
   "source": [
    "# Accessing elements a certain part of series --> Slicing & Filtering\n",
    "print(series[series>0.5]) # filtering\n",
    "print(series[:4]) # first four elements of series\n",
    "print (series[-1:]) #Last element of array\n",
    "print(series[:-2]) # except last 2 elements\n",
    "print(series[-4:]) #Last 4 elements of series"
   ]
  },
  {
   "cell_type": "code",
   "execution_count": 31,
   "metadata": {},
   "outputs": [
    {
     "name": "stdout",
     "output_type": "stream",
     "text": [
      "0    5\n",
      "1    7\n",
      "2    9\n",
      "dtype: int64\n",
      "0   -3\n",
      "1   -3\n",
      "2   -3\n",
      "dtype: int64\n",
      "0     4\n",
      "1    10\n",
      "2    18\n",
      "dtype: int64\n",
      "0    0.25\n",
      "1    0.40\n",
      "2    0.50\n",
      "dtype: float64\n"
     ]
    }
   ],
   "source": [
    "# Arthimetic Operations (+,-,*,/) ---> works element-wise\n",
    "series1 = pd.Series([1,2,3])\n",
    "series2 = pd.Series([4,5,6])\n",
    "print(series1+series2)\n",
    "print(series1-series2)\n",
    "print(series1* series2)\n",
    "print(series1/series2)"
   ]
  },
  {
   "cell_type": "code",
   "execution_count": 32,
   "metadata": {},
   "outputs": [
    {
     "name": "stdout",
     "output_type": "stream",
     "text": [
      "0    5\n",
      "1    7\n",
      "2    9\n",
      "dtype: int64\n",
      "0     4\n",
      "1    10\n",
      "2    18\n",
      "dtype: int64\n",
      "0   -3\n",
      "1   -3\n",
      "2   -3\n",
      "dtype: int64\n",
      "0    0.25\n",
      "1    0.40\n",
      "2    0.50\n",
      "dtype: float64\n"
     ]
    }
   ],
   "source": [
    "print(series1.add(series2))\n",
    "print(series1.multiply(series2))\n",
    "print(series1.subtract(series2))\n",
    "print(series1.divide(series2))"
   ]
  },
  {
   "cell_type": "code",
   "execution_count": 49,
   "metadata": {},
   "outputs": [
    {
     "name": "stdout",
     "output_type": "stream",
     "text": [
      "Maximum Element in series:3\n",
      "Minimum element in series:0.17558364909320334\n",
      "Average of elements in the series:0.5268014030541934\n",
      "Median of elements in the series:0.4854632160577292\n",
      "Mode of elements in the series:\n",
      "0    0.175584\n",
      "1    0.319162\n",
      "2    0.466993\n",
      "3    0.471599\n",
      "4    0.480351\n",
      "5    0.490575\n",
      "6    0.492530\n",
      "7    0.596660\n",
      "8    0.776782\n",
      "9    0.997778\n",
      "dtype: float64\n",
      "Standard deviation of elements in the series:0.22777346983562027\n",
      "Summary of the elements in the series:\n",
      "count    10.000000\n",
      "mean      0.526801\n",
      "std       0.227773\n",
      "min       0.175584\n",
      "25%       0.468144\n",
      "50%       0.485463\n",
      "75%       0.570627\n",
      "max       0.997778\n",
      "dtype: float64\n"
     ]
    }
   ],
   "source": [
    "# Statistical Operations\n",
    "print(\"Maximum Element in series:\",series1.max(),sep='')\n",
    "print(\"Minimum element in series:\",series.min(),sep='')\n",
    "print(\"Average of elements in the series:\",series.mean(),sep='')\n",
    "print(\"Median of elements in the series:\",series.median(),sep='')\n",
    "print(\"Mode of elements in the series:\\n\",series.mode(),sep='')\n",
    "print(\"Standard deviation of elements in the series:\",series.std(),sep='')\n",
    "print(\"Summary of the elements in the series:\",series.describe(),sep='\\n')"
   ]
  },
  {
   "cell_type": "code",
   "execution_count": 51,
   "metadata": {},
   "outputs": [
    {
     "name": "stdout",
     "output_type": "stream",
     "text": [
      "e    0.997778\n",
      "c    0.776782\n",
      "i    0.596660\n",
      "a    0.492530\n",
      "b    0.490575\n",
      "f    0.480351\n",
      "g    0.471599\n",
      "j    0.466993\n",
      "h    0.319162\n",
      "d    0.175584\n",
      "dtype: float64\n"
     ]
    }
   ],
   "source": [
    "# Sorting the series\n",
    "print(series.sort_values(ascending=False))"
   ]
  },
  {
   "cell_type": "code",
   "execution_count": null,
   "metadata": {},
   "outputs": [
    {
     "name": "stdout",
     "output_type": "stream",
     "text": [
      "0    1\n",
      "1    4\n",
      "2    9\n",
      "dtype: int64\n"
     ]
    }
   ],
   "source": [
    "# Data Manipulation\n",
    "print(series2.map(lambda x: x**2)) #Applicable only to series, apply--> applicable to series and data frames"
   ]
  },
  {
   "cell_type": "code",
   "execution_count": 55,
   "metadata": {},
   "outputs": [
    {
     "name": "stdout",
     "output_type": "stream",
     "text": [
      "0    False\n",
      "1    False\n",
      "2    False\n",
      "3     True\n",
      "4    False\n",
      "5    False\n",
      "dtype: bool\n",
      "0    1.0\n",
      "1    2.0\n",
      "2    3.0\n",
      "3    0.0\n",
      "4    4.0\n",
      "5    5.0\n",
      "dtype: float64\n",
      "0    1.0\n",
      "1    2.0\n",
      "2    3.0\n",
      "4    4.0\n",
      "5    5.0\n",
      "dtype: float64\n"
     ]
    }
   ],
   "source": [
    "# Checking null values\n",
    "s=pd.Series(np.array([1,2,3,np.NAN,4,5]))\n",
    "print(s.isnull())\n",
    "print(s.fillna(0))\n",
    "print(s.dropna())"
   ]
  },
  {
   "cell_type": "code",
   "execution_count": 58,
   "metadata": {},
   "outputs": [
    {
     "name": "stdout",
     "output_type": "stream",
     "text": [
      "0          APPLE\n",
      "1         BANANA\n",
      "2         ORANGE\n",
      "3    WATER MELON\n",
      "4        PAPAPYA\n",
      "dtype: object\n",
      "0          apple\n",
      "1     Musk melon\n",
      "2         Orange\n",
      "3    Water Melon\n",
      "4        Papapya\n",
      "dtype: object\n",
      "0    True\n",
      "1    True\n",
      "2    True\n",
      "3    True\n",
      "4    True\n",
      "dtype: bool\n"
     ]
    }
   ],
   "source": [
    "#string operations\n",
    "s1=pd.Series([\"apple\",\"banana\",'Orange',\"Water Melon\",\"Papapya\"])\n",
    "print(s1.str.upper())\n",
    "print(s1.str.replace(\"banana\",\"Musk melon\"))\n",
    "print(s1.str.contains(\"a\"))"
   ]
  },
  {
   "cell_type": "code",
   "execution_count": 69,
   "metadata": {},
   "outputs": [
    {
     "data": {
      "text/plain": [
       "'{\"a\":0.4925296906,\"b\":0.490575049,\"c\":0.7767824494,\"d\":0.1755836491,\"e\":0.9977783273,\"f\":0.4803513831,\"g\":0.471598614,\"h\":0.3191623428,\"i\":0.5966597247,\"j\":0.4669928005}'"
      ]
     },
     "execution_count": 69,
     "metadata": {},
     "output_type": "execute_result"
    }
   ],
   "source": [
    "#Conversions series to other types\n",
    "series.to_numpy()\n",
    "series.tolist()\n",
    "series.to_json()"
   ]
  },
  {
   "cell_type": "code",
   "execution_count": 83,
   "metadata": {},
   "outputs": [
    {
     "name": "stdout",
     "output_type": "stream",
     "text": [
      "0.492530    1\n",
      "0.490575    1\n",
      "0.776782    1\n",
      "0.175584    1\n",
      "0.997778    1\n",
      "0.480351    1\n",
      "0.471599    1\n",
      "0.319162    1\n",
      "0.596660    1\n",
      "0.466993    1\n",
      "dtype: int64\n",
      "10\n",
      "True\n"
     ]
    }
   ],
   "source": [
    "# Checking Uniqueness\n",
    "print(series.value_counts())\n",
    "print(series.nunique())\n",
    "print(series.is_unique)"
   ]
  },
  {
   "cell_type": "code",
   "execution_count": null,
   "metadata": {},
   "outputs": [
    {
     "name": "stdout",
     "output_type": "stream",
     "text": [
      "10\n",
      "True\n"
     ]
    }
   ],
   "source": []
  },
  {
   "cell_type": "code",
   "execution_count": 88,
   "metadata": {},
   "outputs": [
    {
     "name": "stderr",
     "output_type": "stream",
     "text": [
      "C:\\Users\\godul\\AppData\\Local\\Temp\\ipykernel_5720\\1220611511.py:2: FutureWarning: The series.append method is deprecated and will be removed from pandas in a future version. Use pandas.concat instead.\n",
      "  s=series1.append(series2,ignore_index=True)\n"
     ]
    },
    {
     "data": {
      "text/plain": [
       "0    1\n",
       "1    2\n",
       "2    3\n",
       "3    4\n",
       "4    5\n",
       "5    6\n",
       "dtype: int64"
      ]
     },
     "execution_count": 88,
     "metadata": {},
     "output_type": "execute_result"
    }
   ],
   "source": [
    "#merging two series\n",
    "s=series1.append(series2,ignore_index=True)\n",
    "s"
   ]
  },
  {
   "cell_type": "code",
   "execution_count": null,
   "metadata": {},
   "outputs": [],
   "source": []
  }
 ],
 "metadata": {
  "kernelspec": {
   "display_name": "Python 3",
   "language": "python",
   "name": "python3"
  },
  "language_info": {
   "codemirror_mode": {
    "name": "ipython",
    "version": 3
   },
   "file_extension": ".py",
   "mimetype": "text/x-python",
   "name": "python",
   "nbconvert_exporter": "python",
   "pygments_lexer": "ipython3",
   "version": "3.9.6"
  }
 },
 "nbformat": 4,
 "nbformat_minor": 2
}
