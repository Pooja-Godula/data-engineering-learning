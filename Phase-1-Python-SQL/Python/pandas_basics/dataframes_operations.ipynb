{
 "cells": [
  {
   "cell_type": "markdown",
   "metadata": {},
   "source": [
    "Data Frames:\n",
    "1. Data Manipulation\n",
    "2. Data Cleaning\n",
    "3. Data Aggregation"
   ]
  },
  {
   "cell_type": "code",
   "execution_count": 1,
   "metadata": {},
   "outputs": [],
   "source": [
    "import pandas as pd \n",
    "import numpy as np"
   ]
  },
  {
   "cell_type": "code",
   "execution_count": 6,
   "metadata": {},
   "outputs": [
    {
     "data": {
      "text/html": [
       "<div>\n",
       "<style scoped>\n",
       "    .dataframe tbody tr th:only-of-type {\n",
       "        vertical-align: middle;\n",
       "    }\n",
       "\n",
       "    .dataframe tbody tr th {\n",
       "        vertical-align: top;\n",
       "    }\n",
       "\n",
       "    .dataframe thead th {\n",
       "        text-align: right;\n",
       "    }\n",
       "</style>\n",
       "<table border=\"1\" class=\"dataframe\">\n",
       "  <thead>\n",
       "    <tr style=\"text-align: right;\">\n",
       "      <th></th>\n",
       "      <th>Languages</th>\n",
       "      <th>rating</th>\n",
       "    </tr>\n",
       "  </thead>\n",
       "  <tbody>\n",
       "    <tr>\n",
       "      <th>0</th>\n",
       "      <td>Python</td>\n",
       "      <td>4</td>\n",
       "    </tr>\n",
       "    <tr>\n",
       "      <th>1</th>\n",
       "      <td>SQL</td>\n",
       "      <td>5</td>\n",
       "    </tr>\n",
       "    <tr>\n",
       "      <th>2</th>\n",
       "      <td>Java</td>\n",
       "      <td>2</td>\n",
       "    </tr>\n",
       "    <tr>\n",
       "      <th>3</th>\n",
       "      <td>C++</td>\n",
       "      <td>3</td>\n",
       "    </tr>\n",
       "  </tbody>\n",
       "</table>\n",
       "</div>"
      ],
      "text/plain": [
       "  Languages  rating\n",
       "0    Python       4\n",
       "1       SQL       5\n",
       "2      Java       2\n",
       "3       C++       3"
      ]
     },
     "execution_count": 6,
     "metadata": {},
     "output_type": "execute_result"
    }
   ],
   "source": [
    "languages = {'Languages': ['Python', 'SQL', 'Java', 'C++'],\n",
    "             'rating': [4, 5, 2, 3]}\n",
    "df = pd.DataFrame(languages,columns=['Languages','rating'])\n",
    "df"
   ]
  },
  {
   "cell_type": "code",
   "execution_count": 17,
   "metadata": {},
   "outputs": [
    {
     "data": {
      "text/html": [
       "<div>\n",
       "<style scoped>\n",
       "    .dataframe tbody tr th:only-of-type {\n",
       "        vertical-align: middle;\n",
       "    }\n",
       "\n",
       "    .dataframe tbody tr th {\n",
       "        vertical-align: top;\n",
       "    }\n",
       "\n",
       "    .dataframe thead th {\n",
       "        text-align: right;\n",
       "    }\n",
       "</style>\n",
       "<table border=\"1\" class=\"dataframe\">\n",
       "  <thead>\n",
       "    <tr style=\"text-align: right;\">\n",
       "      <th></th>\n",
       "      <th>Names</th>\n",
       "      <th>products</th>\n",
       "      <th>Quantity</th>\n",
       "      <th>Price_per_Quantity</th>\n",
       "      <th>Date_bought</th>\n",
       "    </tr>\n",
       "  </thead>\n",
       "  <tbody>\n",
       "    <tr>\n",
       "      <th>1</th>\n",
       "      <td>jon</td>\n",
       "      <td>knives</td>\n",
       "      <td>4</td>\n",
       "      <td>2000</td>\n",
       "      <td>2025-01-01</td>\n",
       "    </tr>\n",
       "    <tr>\n",
       "      <th>2</th>\n",
       "      <td>peter</td>\n",
       "      <td>crossword puzzles</td>\n",
       "      <td>2</td>\n",
       "      <td>3000</td>\n",
       "      <td>2025-01-02</td>\n",
       "    </tr>\n",
       "    <tr>\n",
       "      <th>3</th>\n",
       "      <td>tony</td>\n",
       "      <td>books</td>\n",
       "      <td>5</td>\n",
       "      <td>40000</td>\n",
       "      <td>2025-01-03</td>\n",
       "    </tr>\n",
       "    <tr>\n",
       "      <th>4</th>\n",
       "      <td>chris</td>\n",
       "      <td>guns&amp;bullets</td>\n",
       "      <td>2</td>\n",
       "      <td>50000</td>\n",
       "      <td>2025-01-04</td>\n",
       "    </tr>\n",
       "  </tbody>\n",
       "</table>\n",
       "</div>"
      ],
      "text/plain": [
       "   Names           products  Quantity  Price_per_Quantity Date_bought\n",
       "1    jon             knives         4                2000  2025-01-01\n",
       "2  peter  crossword puzzles         2                3000  2025-01-02\n",
       "3   tony              books         5               40000  2025-01-03\n",
       "4  chris       guns&bullets         2               50000  2025-01-04"
      ]
     },
     "execution_count": 17,
     "metadata": {},
     "output_type": "execute_result"
    }
   ],
   "source": [
    "customers = {'Names':['jon','peter','tony','chris'],\n",
    "             'products':['knives','crossword puzzles','books','guns&bullets'],\n",
    "             'Quantity':[4,2,5,2],\n",
    "             'Price_per_Quantity':[2000,3000,40000,50000],\n",
    "             'Date_bought':pd.date_range('2025-01-01',periods=4)\n",
    "             }\n",
    "df = pd.DataFrame(customers,np.arange(1,5))\n",
    "df"
   ]
  },
  {
   "cell_type": "code",
   "execution_count": null,
   "metadata": {},
   "outputs": [
    {
     "data": {
      "text/html": [
       "<div>\n",
       "<style scoped>\n",
       "    .dataframe tbody tr th:only-of-type {\n",
       "        vertical-align: middle;\n",
       "    }\n",
       "\n",
       "    .dataframe tbody tr th {\n",
       "        vertical-align: top;\n",
       "    }\n",
       "\n",
       "    .dataframe thead th {\n",
       "        text-align: right;\n",
       "    }\n",
       "</style>\n",
       "<table border=\"1\" class=\"dataframe\">\n",
       "  <thead>\n",
       "    <tr style=\"text-align: right;\">\n",
       "      <th></th>\n",
       "      <th>Names</th>\n",
       "      <th>products</th>\n",
       "    </tr>\n",
       "  </thead>\n",
       "  <tbody>\n",
       "    <tr>\n",
       "      <th>1</th>\n",
       "      <td>jon</td>\n",
       "      <td>knives</td>\n",
       "    </tr>\n",
       "    <tr>\n",
       "      <th>2</th>\n",
       "      <td>peter</td>\n",
       "      <td>crossword puzzles</td>\n",
       "    </tr>\n",
       "    <tr>\n",
       "      <th>3</th>\n",
       "      <td>tony</td>\n",
       "      <td>books</td>\n",
       "    </tr>\n",
       "    <tr>\n",
       "      <th>4</th>\n",
       "      <td>chris</td>\n",
       "      <td>guns&amp;bullets</td>\n",
       "    </tr>\n",
       "  </tbody>\n",
       "</table>\n",
       "</div>"
      ],
      "text/plain": [
       "   Names           products\n",
       "1    jon             knives\n",
       "2  peter  crossword puzzles\n",
       "3   tony              books\n",
       "4  chris       guns&bullets"
      ]
     },
     "execution_count": 20,
     "metadata": {},
     "output_type": "execute_result"
    }
   ],
   "source": [
    "# Accessing Columns\n",
    "\n",
    "df['Names'] # Accessing Single Column\n",
    "df[['Names','products']] # Accessing Multiple Columns"
   ]
  },
  {
   "cell_type": "code",
   "execution_count": null,
   "metadata": {},
   "outputs": [
    {
     "name": "stdout",
     "output_type": "stream",
     "text": [
      "Names                                 jon\n",
      "products                           knives\n",
      "Quantity                                4\n",
      "Price_per_Quantity                   2000\n",
      "Date_bought           2025-01-01 00:00:00\n",
      "Name: 1, dtype: object\n",
      "Names                               peter\n",
      "products                crossword puzzles\n",
      "Quantity                                2\n",
      "Price_per_Quantity                   3000\n",
      "Date_bought           2025-01-02 00:00:00\n",
      "Name: 2, dtype: object\n"
     ]
    }
   ],
   "source": [
    "# Accessing data by rows\n",
    "print(df.loc[1]) # Data of first row and accessing row by label---> Label-Based Indexing\n",
    "print(df.iloc[1]) # Accessing row by index and getting second row of data ---> Integer-Based Indexing"
   ]
  },
  {
   "cell_type": "code",
   "execution_count": 38,
   "metadata": {},
   "outputs": [
    {
     "data": {
      "text/html": [
       "<div>\n",
       "<style scoped>\n",
       "    .dataframe tbody tr th:only-of-type {\n",
       "        vertical-align: middle;\n",
       "    }\n",
       "\n",
       "    .dataframe tbody tr th {\n",
       "        vertical-align: top;\n",
       "    }\n",
       "\n",
       "    .dataframe thead th {\n",
       "        text-align: right;\n",
       "    }\n",
       "</style>\n",
       "<table border=\"1\" class=\"dataframe\">\n",
       "  <thead>\n",
       "    <tr style=\"text-align: right;\">\n",
       "      <th></th>\n",
       "      <th>Customer_Names</th>\n",
       "      <th>products</th>\n",
       "      <th>Quantity</th>\n",
       "      <th>Price_per_Quantity</th>\n",
       "      <th>Date_bought</th>\n",
       "      <th>Age</th>\n",
       "      <th>Discount</th>\n",
       "    </tr>\n",
       "  </thead>\n",
       "  <tbody>\n",
       "    <tr>\n",
       "      <th>1</th>\n",
       "      <td>jon</td>\n",
       "      <td>knives</td>\n",
       "      <td>4</td>\n",
       "      <td>2000</td>\n",
       "      <td>2025-01-01</td>\n",
       "      <td>25</td>\n",
       "      <td>0.1</td>\n",
       "    </tr>\n",
       "    <tr>\n",
       "      <th>2</th>\n",
       "      <td>peter</td>\n",
       "      <td>crossword puzzles</td>\n",
       "      <td>2</td>\n",
       "      <td>3000</td>\n",
       "      <td>2025-01-02</td>\n",
       "      <td>29</td>\n",
       "      <td>0.1</td>\n",
       "    </tr>\n",
       "    <tr>\n",
       "      <th>3</th>\n",
       "      <td>tony</td>\n",
       "      <td>books</td>\n",
       "      <td>5</td>\n",
       "      <td>40000</td>\n",
       "      <td>2025-01-03</td>\n",
       "      <td>30</td>\n",
       "      <td>0.1</td>\n",
       "    </tr>\n",
       "    <tr>\n",
       "      <th>4</th>\n",
       "      <td>chris</td>\n",
       "      <td>guns&amp;bullets</td>\n",
       "      <td>2</td>\n",
       "      <td>50000</td>\n",
       "      <td>2025-01-04</td>\n",
       "      <td>75</td>\n",
       "      <td>0.1</td>\n",
       "    </tr>\n",
       "  </tbody>\n",
       "</table>\n",
       "</div>"
      ],
      "text/plain": [
       "  Customer_Names           products  Quantity  Price_per_Quantity Date_bought  \\\n",
       "1            jon             knives         4                2000  2025-01-01   \n",
       "2          peter  crossword puzzles         2                3000  2025-01-02   \n",
       "3           tony              books         5               40000  2025-01-03   \n",
       "4          chris       guns&bullets         2               50000  2025-01-04   \n",
       "\n",
       "   Age  Discount  \n",
       "1   25       0.1  \n",
       "2   29       0.1  \n",
       "3   30       0.1  \n",
       "4   75       0.1  "
      ]
     },
     "execution_count": 38,
     "metadata": {},
     "output_type": "execute_result"
    }
   ],
   "source": [
    "# Adding new column\n",
    "Age = [25,29,30,75]\n",
    "df['Age']=Age\n",
    "df['Discount']=0.1\n",
    "df"
   ]
  },
  {
   "cell_type": "code",
   "execution_count": 30,
   "metadata": {},
   "outputs": [
    {
     "name": "stdout",
     "output_type": "stream",
     "text": [
      "2    peter\n",
      "3     tony\n",
      "4    chris\n",
      "Name: Names, dtype: object\n"
     ]
    }
   ],
   "source": [
    "# Filtering\n",
    "print(df[df['Age']>25]['Names'])"
   ]
  },
  {
   "cell_type": "code",
   "execution_count": 34,
   "metadata": {},
   "outputs": [
    {
     "data": {
      "text/html": [
       "<div>\n",
       "<style scoped>\n",
       "    .dataframe tbody tr th:only-of-type {\n",
       "        vertical-align: middle;\n",
       "    }\n",
       "\n",
       "    .dataframe tbody tr th {\n",
       "        vertical-align: top;\n",
       "    }\n",
       "\n",
       "    .dataframe thead th {\n",
       "        text-align: right;\n",
       "    }\n",
       "</style>\n",
       "<table border=\"1\" class=\"dataframe\">\n",
       "  <thead>\n",
       "    <tr style=\"text-align: right;\">\n",
       "      <th></th>\n",
       "      <th>Customer_Names</th>\n",
       "      <th>products</th>\n",
       "      <th>Quantity</th>\n",
       "      <th>Price_per_Quantity</th>\n",
       "      <th>Date_bought</th>\n",
       "      <th>Age</th>\n",
       "    </tr>\n",
       "  </thead>\n",
       "  <tbody>\n",
       "    <tr>\n",
       "      <th>1</th>\n",
       "      <td>jon</td>\n",
       "      <td>knives</td>\n",
       "      <td>4</td>\n",
       "      <td>2000</td>\n",
       "      <td>2025-01-01</td>\n",
       "      <td>25</td>\n",
       "    </tr>\n",
       "    <tr>\n",
       "      <th>2</th>\n",
       "      <td>peter</td>\n",
       "      <td>crossword puzzles</td>\n",
       "      <td>2</td>\n",
       "      <td>3000</td>\n",
       "      <td>2025-01-02</td>\n",
       "      <td>29</td>\n",
       "    </tr>\n",
       "    <tr>\n",
       "      <th>3</th>\n",
       "      <td>tony</td>\n",
       "      <td>books</td>\n",
       "      <td>5</td>\n",
       "      <td>40000</td>\n",
       "      <td>2025-01-03</td>\n",
       "      <td>30</td>\n",
       "    </tr>\n",
       "    <tr>\n",
       "      <th>4</th>\n",
       "      <td>chris</td>\n",
       "      <td>guns&amp;bullets</td>\n",
       "      <td>2</td>\n",
       "      <td>50000</td>\n",
       "      <td>2025-01-04</td>\n",
       "      <td>75</td>\n",
       "    </tr>\n",
       "  </tbody>\n",
       "</table>\n",
       "</div>"
      ],
      "text/plain": [
       "  Customer_Names           products  Quantity  Price_per_Quantity Date_bought  \\\n",
       "1            jon             knives         4                2000  2025-01-01   \n",
       "2          peter  crossword puzzles         2                3000  2025-01-02   \n",
       "3           tony              books         5               40000  2025-01-03   \n",
       "4          chris       guns&bullets         2               50000  2025-01-04   \n",
       "\n",
       "   Age  \n",
       "1   25  \n",
       "2   29  \n",
       "3   30  \n",
       "4   75  "
      ]
     },
     "execution_count": 34,
     "metadata": {},
     "output_type": "execute_result"
    }
   ],
   "source": [
    "# Renaming columns\n",
    "df.rename(columns={'Names':'Customer_Names'},inplace=True)\n",
    "df"
   ]
  },
  {
   "cell_type": "code",
   "execution_count": 37,
   "metadata": {},
   "outputs": [
    {
     "name": "stdout",
     "output_type": "stream",
     "text": [
      "  Customer_Names           products  Quantity  Price_per_Quantity Date_bought  \\\n",
      "4          chris       guns&bullets         2               50000  2025-01-04   \n",
      "3           tony              books         5               40000  2025-01-03   \n",
      "2          peter  crossword puzzles         2                3000  2025-01-02   \n",
      "1            jon             knives         4                2000  2025-01-01   \n",
      "\n",
      "   Age  \n",
      "4   75  \n",
      "3   30  \n",
      "2   29  \n",
      "1   25  \n",
      "  Customer_Names           products  Quantity  Price_per_Quantity Date_bought  \\\n",
      "1            jon             knives         4                2000  2025-01-01   \n",
      "2          peter  crossword puzzles         2                3000  2025-01-02   \n",
      "3           tony              books         5               40000  2025-01-03   \n",
      "4          chris       guns&bullets         2               50000  2025-01-04   \n",
      "\n",
      "   Age  \n",
      "1   25  \n",
      "2   29  \n",
      "3   30  \n",
      "4   75  \n"
     ]
    }
   ],
   "source": [
    "#sorting\n",
    "print(df.sort_values('Price_per_Quantity',ascending=False))\n",
    "print(df.sort_index())"
   ]
  },
  {
   "cell_type": "code",
   "execution_count": 40,
   "metadata": {},
   "outputs": [
    {
     "data": {
      "text/html": [
       "<div>\n",
       "<style scoped>\n",
       "    .dataframe tbody tr th:only-of-type {\n",
       "        vertical-align: middle;\n",
       "    }\n",
       "\n",
       "    .dataframe tbody tr th {\n",
       "        vertical-align: top;\n",
       "    }\n",
       "\n",
       "    .dataframe thead th {\n",
       "        text-align: right;\n",
       "    }\n",
       "</style>\n",
       "<table border=\"1\" class=\"dataframe\">\n",
       "  <thead>\n",
       "    <tr style=\"text-align: right;\">\n",
       "      <th></th>\n",
       "      <th>Customer_Names</th>\n",
       "      <th>products</th>\n",
       "      <th>Quantity</th>\n",
       "      <th>Price_per_Quantity</th>\n",
       "      <th>Date_bought</th>\n",
       "      <th>Age</th>\n",
       "      <th>Discount</th>\n",
       "    </tr>\n",
       "  </thead>\n",
       "  <tbody>\n",
       "    <tr>\n",
       "      <th>1</th>\n",
       "      <td>jon</td>\n",
       "      <td>knives</td>\n",
       "      <td>8</td>\n",
       "      <td>2000</td>\n",
       "      <td>2025-01-01</td>\n",
       "      <td>25</td>\n",
       "      <td>0.1</td>\n",
       "    </tr>\n",
       "    <tr>\n",
       "      <th>2</th>\n",
       "      <td>peter</td>\n",
       "      <td>crossword puzzles</td>\n",
       "      <td>6</td>\n",
       "      <td>3000</td>\n",
       "      <td>2025-01-02</td>\n",
       "      <td>29</td>\n",
       "      <td>0.1</td>\n",
       "    </tr>\n",
       "    <tr>\n",
       "      <th>3</th>\n",
       "      <td>tony</td>\n",
       "      <td>books</td>\n",
       "      <td>9</td>\n",
       "      <td>40000</td>\n",
       "      <td>2025-01-03</td>\n",
       "      <td>30</td>\n",
       "      <td>0.1</td>\n",
       "    </tr>\n",
       "    <tr>\n",
       "      <th>4</th>\n",
       "      <td>chris</td>\n",
       "      <td>guns&amp;bullets</td>\n",
       "      <td>6</td>\n",
       "      <td>50000</td>\n",
       "      <td>2025-01-04</td>\n",
       "      <td>75</td>\n",
       "      <td>0.1</td>\n",
       "    </tr>\n",
       "  </tbody>\n",
       "</table>\n",
       "</div>"
      ],
      "text/plain": [
       "  Customer_Names           products  Quantity  Price_per_Quantity Date_bought  \\\n",
       "1            jon             knives         8                2000  2025-01-01   \n",
       "2          peter  crossword puzzles         6                3000  2025-01-02   \n",
       "3           tony              books         9               40000  2025-01-03   \n",
       "4          chris       guns&bullets         6               50000  2025-01-04   \n",
       "\n",
       "   Age  Discount  \n",
       "1   25       0.1  \n",
       "2   29       0.1  \n",
       "3   30       0.1  \n",
       "4   75       0.1  "
      ]
     },
     "execution_count": 40,
     "metadata": {},
     "output_type": "execute_result"
    }
   ],
   "source": [
    "# Updating the column values\n",
    "df['Quantity']=df['Quantity']+2\n",
    "df"
   ]
  },
  {
   "cell_type": "code",
   "execution_count": null,
   "metadata": {},
   "outputs": [
    {
     "name": "stdout",
     "output_type": "stream",
     "text": [
      "  Customer_Names           products  Quantity  Price_per_Quantity Date_bought  \\\n",
      "1            jon             knives         8                2000  2025-01-01   \n",
      "2          peter  crossword puzzles         6                3000  2025-01-02   \n",
      "3           tony              books         9               40000  2025-01-03   \n",
      "4          chris       guns&bullets         6               50000  2025-01-04   \n",
      "\n",
      "   Discount  \n",
      "1       0.1  \n",
      "2       0.1  \n",
      "3       0.1  \n",
      "4       0.1  \n",
      "  Customer_Names           products  Quantity  Price_per_Quantity Date_bought  \\\n",
      "2          peter  crossword puzzles         6                3000  2025-01-02   \n",
      "3           tony              books         9               40000  2025-01-03   \n",
      "4          chris       guns&bullets         6               50000  2025-01-04   \n",
      "\n",
      "   Age  Discount  \n",
      "2   29       0.1  \n",
      "3   30       0.1  \n",
      "4   75       0.1  \n"
     ]
    }
   ],
   "source": [
    "# Deleting rows and columns\n",
    "print(df.drop(columns='Age',inplace=False)) # Deleting by column\n",
    "print(df.drop(index=1,inplace=False)) # deleting by row\n"
   ]
  },
  {
   "cell_type": "code",
   "execution_count": 13,
   "metadata": {},
   "outputs": [
    {
     "data": {
      "text/html": [
       "<div>\n",
       "<style scoped>\n",
       "    .dataframe tbody tr th:only-of-type {\n",
       "        vertical-align: middle;\n",
       "    }\n",
       "\n",
       "    .dataframe tbody tr th {\n",
       "        vertical-align: top;\n",
       "    }\n",
       "\n",
       "    .dataframe thead th {\n",
       "        text-align: right;\n",
       "    }\n",
       "</style>\n",
       "<table border=\"1\" class=\"dataframe\">\n",
       "  <thead>\n",
       "    <tr style=\"text-align: right;\">\n",
       "      <th></th>\n",
       "      <th>a</th>\n",
       "      <th>v</th>\n",
       "      <th>b</th>\n",
       "    </tr>\n",
       "  </thead>\n",
       "  <tbody>\n",
       "    <tr>\n",
       "      <th>0</th>\n",
       "      <td>1</td>\n",
       "      <td>2</td>\n",
       "      <td>NaN</td>\n",
       "    </tr>\n",
       "    <tr>\n",
       "      <th>1</th>\n",
       "      <td>23</td>\n",
       "      <td>23</td>\n",
       "      <td>34.0</td>\n",
       "    </tr>\n",
       "  </tbody>\n",
       "</table>\n",
       "</div>"
      ],
      "text/plain": [
       "    a   v     b\n",
       "0   1   2   NaN\n",
       "1  23  23  34.0"
      ]
     },
     "execution_count": 13,
     "metadata": {},
     "output_type": "execute_result"
    }
   ],
   "source": [
    "d = [{'a':1,'v':2},{'a':23,'b':34,'v':23}]\n",
    "df1=pd.DataFrame(d)\n",
    "df1"
   ]
  },
  {
   "cell_type": "code",
   "execution_count": null,
   "metadata": {},
   "outputs": [
    {
     "data": {
      "text/html": [
       "<div>\n",
       "<style scoped>\n",
       "    .dataframe tbody tr th:only-of-type {\n",
       "        vertical-align: middle;\n",
       "    }\n",
       "\n",
       "    .dataframe tbody tr th {\n",
       "        vertical-align: top;\n",
       "    }\n",
       "\n",
       "    .dataframe thead th {\n",
       "        text-align: right;\n",
       "    }\n",
       "</style>\n",
       "<table border=\"1\" class=\"dataframe\">\n",
       "  <thead>\n",
       "    <tr style=\"text-align: right;\">\n",
       "      <th></th>\n",
       "      <th>a</th>\n",
       "      <th>v</th>\n",
       "      <th>b</th>\n",
       "    </tr>\n",
       "  </thead>\n",
       "  <tbody>\n",
       "    <tr>\n",
       "      <th>1</th>\n",
       "      <td>23</td>\n",
       "      <td>23</td>\n",
       "      <td>34.0</td>\n",
       "    </tr>\n",
       "  </tbody>\n",
       "</table>\n",
       "</div>"
      ],
      "text/plain": [
       "    a   v     b\n",
       "1  23  23  34.0"
      ]
     },
     "execution_count": 58,
     "metadata": {},
     "output_type": "execute_result"
    }
   ],
   "source": [
    "#Data Cleaning ---> Handling missing values and filling null values\n",
    "df1.isnull()\n",
    "df1.fillna(0)\n",
    "df1\n",
    "df1.dropna()#remove rows containing None"
   ]
  },
  {
   "cell_type": "code",
   "execution_count": 60,
   "metadata": {},
   "outputs": [
    {
     "name": "stdout",
     "output_type": "stream",
     "text": [
      "2025-02-22 17:44:46.791419\n",
      "                       Dates   Weekdays  Count\n",
      "0 2025-02-22 17:44:46.791419   Saturday   12.0\n",
      "1 2025-02-23 17:44:46.791419     Sunday   34.0\n",
      "2 2025-02-24 17:44:46.791419     Monday   45.0\n",
      "3 2025-02-25 17:44:46.791419    Tuesday   56.0\n",
      "4 2025-02-26 17:44:46.791419  Wednesday   78.0\n",
      "5 2025-02-27 17:44:46.791419   Thursday   56.0\n",
      "6 2025-02-28 17:44:46.791419     Friday    NaN\n"
     ]
    }
   ],
   "source": [
    "from datetime import datetime,timedelta\n",
    "now=datetime.now()\n",
    "print(now)\n",
    "dates=pd.date_range(datetime.now(),periods=7,freq='D')\n",
    "df2 = pd.DataFrame({\n",
    "    'Dates': dates,\n",
    "    'Weekdays': dates.strftime('%A'),\n",
    "    'Count': [12, 34, 45, 56, 78, 56,None]  # Only 6 values provided\n",
    "})\n",
    "\n",
    "print(df2)\n"
   ]
  },
  {
   "cell_type": "code",
   "execution_count": 64,
   "metadata": {},
   "outputs": [
    {
     "data": {
      "text/html": [
       "<div>\n",
       "<style scoped>\n",
       "    .dataframe tbody tr th:only-of-type {\n",
       "        vertical-align: middle;\n",
       "    }\n",
       "\n",
       "    .dataframe tbody tr th {\n",
       "        vertical-align: top;\n",
       "    }\n",
       "\n",
       "    .dataframe thead th {\n",
       "        text-align: right;\n",
       "    }\n",
       "</style>\n",
       "<table border=\"1\" class=\"dataframe\">\n",
       "  <thead>\n",
       "    <tr style=\"text-align: right;\">\n",
       "      <th></th>\n",
       "      <th>Dates</th>\n",
       "      <th>Weekdays</th>\n",
       "      <th>Count</th>\n",
       "    </tr>\n",
       "  </thead>\n",
       "  <tbody>\n",
       "    <tr>\n",
       "      <th>0</th>\n",
       "      <td>2025-02-22 17:44:46.791419</td>\n",
       "      <td>Saturday</td>\n",
       "      <td>12.0</td>\n",
       "    </tr>\n",
       "    <tr>\n",
       "      <th>1</th>\n",
       "      <td>2025-02-23 17:44:46.791419</td>\n",
       "      <td>Sunday</td>\n",
       "      <td>34.0</td>\n",
       "    </tr>\n",
       "    <tr>\n",
       "      <th>2</th>\n",
       "      <td>2025-02-24 17:44:46.791419</td>\n",
       "      <td>Monday</td>\n",
       "      <td>45.0</td>\n",
       "    </tr>\n",
       "    <tr>\n",
       "      <th>3</th>\n",
       "      <td>2025-02-25 17:44:46.791419</td>\n",
       "      <td>Tuesday</td>\n",
       "      <td>56.0</td>\n",
       "    </tr>\n",
       "    <tr>\n",
       "      <th>4</th>\n",
       "      <td>2025-02-26 17:44:46.791419</td>\n",
       "      <td>Wednesday</td>\n",
       "      <td>78.0</td>\n",
       "    </tr>\n",
       "    <tr>\n",
       "      <th>5</th>\n",
       "      <td>2025-02-27 17:44:46.791419</td>\n",
       "      <td>Thursday</td>\n",
       "      <td>56.0</td>\n",
       "    </tr>\n",
       "  </tbody>\n",
       "</table>\n",
       "</div>"
      ],
      "text/plain": [
       "                       Dates   Weekdays  Count\n",
       "0 2025-02-22 17:44:46.791419   Saturday   12.0\n",
       "1 2025-02-23 17:44:46.791419     Sunday   34.0\n",
       "2 2025-02-24 17:44:46.791419     Monday   45.0\n",
       "3 2025-02-25 17:44:46.791419    Tuesday   56.0\n",
       "4 2025-02-26 17:44:46.791419  Wednesday   78.0\n",
       "5 2025-02-27 17:44:46.791419   Thursday   56.0"
      ]
     },
     "execution_count": 64,
     "metadata": {},
     "output_type": "execute_result"
    }
   ],
   "source": [
    "df2.isnull()\n",
    "df2.fillna(0)\n",
    "df2.dropna(inplace=True)\n",
    "df2"
   ]
  },
  {
   "cell_type": "code",
   "execution_count": null,
   "metadata": {},
   "outputs": [
    {
     "name": "stdout",
     "output_type": "stream",
     "text": [
      "95000\n",
      "39.75\n",
      "9\n"
     ]
    }
   ],
   "source": [
    "# Data Aggregation\n",
    "# Aggregation Functions\n",
    "print(df['Price_per_Quantity'].sum())\n",
    "print(df['Age'].mean())\n",
    "print(df['Quantity'].max())"
   ]
  },
  {
   "cell_type": "code",
   "execution_count": null,
   "metadata": {},
   "outputs": [
    {
     "name": "stdout",
     "output_type": "stream",
     "text": [
      "Department\n",
      "HR    42000\n",
      "IT    53000\n",
      "Name: Price_per_Quantity, dtype: int64\n"
     ]
    }
   ],
   "source": [
    "# Group by\n",
    "df['Department']=['HR','IT','HR','IT']\n",
    "print(df.groupby('Department')['Price_per_Quantity'].sum()) # Average cost per department\n"
   ]
  },
  {
   "cell_type": "code",
   "execution_count": 72,
   "metadata": {},
   "outputs": [
    {
     "name": "stdout",
     "output_type": "stream",
     "text": [
      "   ID Name  Salary\n",
      "0   1  Poo   45000\n",
      "1   2  Joo   60000\n"
     ]
    }
   ],
   "source": [
    "# Merging and Joining DataFrames\n",
    "df3 = pd.DataFrame({'ID':[1,2],'Name':['Poo','Joo']})\n",
    "df4=pd.DataFrame({'ID':[1,2],'Salary':[45000,60000]})\n",
    "print(pd.merge(df3,df4,on=\"ID\"))"
   ]
  }
 ],
 "metadata": {
  "kernelspec": {
   "display_name": "Python 3",
   "language": "python",
   "name": "python3"
  },
  "language_info": {
   "codemirror_mode": {
    "name": "ipython",
    "version": 3
   },
   "file_extension": ".py",
   "mimetype": "text/x-python",
   "name": "python",
   "nbconvert_exporter": "python",
   "pygments_lexer": "ipython3",
   "version": "3.9.6"
  }
 },
 "nbformat": 4,
 "nbformat_minor": 2
}
